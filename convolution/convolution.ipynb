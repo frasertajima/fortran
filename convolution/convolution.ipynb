{
 "cells": [
  {
   "cell_type": "code",
   "execution_count": 1,
   "metadata": {},
   "outputs": [],
   "source": [
    "import numpy as np\n",
    "import time\n",
    "import matplotlib.pyplot as plt\n",
    "\n",
    "# Parameters matching the Fortran version\n",
    "WIDTH = 1024 * 1024  # 1M elements\n",
    "MASK_WIDTH = 5\n",
    "M = np.array([0.1, 0.2, 0.4, 0.2, 0.1])  # Same mask as Fortran version"
   ]
  },
  {
   "cell_type": "code",
   "execution_count": 2,
   "metadata": {},
   "outputs": [],
   "source": [
    "def convolution_1d(input_data, mask):\n",
    "    \"\"\"1D convolution implementation using NumPy\"\"\"\n",
    "    return np.convolve(input_data, mask, mode='same')\n",
    "\n",
    "# Generate the same input data as Fortran version\n",
    "input_data = np.sin(np.arange(WIDTH) / 100.0)"
   ]
  },
  {
   "cell_type": "code",
   "execution_count": 3,
   "metadata": {},
   "outputs": [
    {
     "name": "stdout",
     "output_type": "stream",
     "text": [
      "NumPy Convolution Benchmark:\n",
      "  Input size:    1048576\n",
      "  Mask width:          5\n",
      "\n",
      "Time:                2.70 ms\n",
      "Performance:          388.79 GElements/s\n"
     ]
    }
   ],
   "source": [
    "def benchmark_numpy():\n",
    "    print(\"NumPy Convolution Benchmark:\")\n",
    "    print(f\"  Input size: {WIDTH:10d}\")\n",
    "    print(f\"  Mask width: {MASK_WIDTH:10d}\")\n",
    "    print()\n",
    "    \n",
    "    # Warm-up run\n",
    "    _ = convolution_1d(input_data, M)\n",
    "    \n",
    "    # Timed run\n",
    "    start_time = time.perf_counter()\n",
    "    output = convolution_1d(input_data, M)\n",
    "    end_time = time.perf_counter()\n",
    "    \n",
    "    elapsed_ms = (end_time - start_time) * 1000\n",
    "    giga_elements_per_sec = (WIDTH * 1e-6) / (elapsed_ms * 1e-3)\n",
    "    \n",
    "    print(f\"Time:          {elapsed_ms:10.2f} ms\")\n",
    "    print(f\"Performance:      {giga_elements_per_sec:10.2f} GElements/s\")\n",
    "\n",
    "# Run benchmark\n",
    "benchmark_numpy()"
   ]
  },
  {
   "cell_type": "code",
   "execution_count": 4,
   "metadata": {},
   "outputs": [],
   "source": [
    "import numpy as np\n",
    "import time\n",
    "import matplotlib.pyplot as plt\n",
    "import torch\n",
    "import pandas as pd\n",
    "from scipy.signal import convolve\n",
    "from sklearn.linear_model import LinearRegression  # We'll use this to demonstrate why scikit-learn isn't meant for this\n",
    "\n",
    "# Parameters matching the Fortran version\n",
    "WIDTH = 1024 * 1024  # 1M elements\n",
    "MASK_WIDTH = 5\n",
    "M = np.array([0.1, 0.2, 0.4, 0.2, 0.1])  # Same mask as Fortran version\n",
    "input_data = np.sin(np.arange(WIDTH) / 100.0)"
   ]
  },
  {
   "cell_type": "code",
   "execution_count": 5,
   "metadata": {},
   "outputs": [
    {
     "name": "stdout",
     "output_type": "stream",
     "text": [
      "\n",
      "PyTorch Convolution Benchmark:\n",
      "  Input size:    1048576\n",
      "  Mask width:          5\n",
      "\n",
      "CPU Time:               20.83 ms\n",
      "CPU Performance:           50.35 GElements/s\n",
      "GPU Time:                0.36 ms\n",
      "GPU Performance:         2921.83 GElements/s\n"
     ]
    }
   ],
   "source": [
    "def benchmark_pytorch():\n",
    "    print(\"\\nPyTorch Convolution Benchmark:\")\n",
    "    print(f\"  Input size: {WIDTH:10d}\")\n",
    "    print(f\"  Mask width: {MASK_WIDTH:10d}\")\n",
    "    print()\n",
    "    \n",
    "    # Convert to PyTorch tensors\n",
    "    input_tensor = torch.from_numpy(input_data).float()\n",
    "    mask_tensor = torch.from_numpy(M).float()\n",
    "    \n",
    "    # CPU benchmark\n",
    "    # Warm-up\n",
    "    _ = torch.nn.functional.conv1d(input_tensor.view(1, 1, -1), \n",
    "                                 mask_tensor.view(1, 1, -1), \n",
    "                                 padding=MASK_WIDTH//2)\n",
    "    \n",
    "    start_time = time.perf_counter()\n",
    "    output_cpu = torch.nn.functional.conv1d(input_tensor.view(1, 1, -1), \n",
    "                                          mask_tensor.view(1, 1, -1), \n",
    "                                          padding=MASK_WIDTH//2)\n",
    "    end_time = time.perf_counter()\n",
    "    \n",
    "    elapsed_ms_cpu = (end_time - start_time) * 1000\n",
    "    giga_elements_per_sec_cpu = (WIDTH * 1e-6) / (elapsed_ms_cpu * 1e-3)\n",
    "    \n",
    "    print(f\"CPU Time:          {elapsed_ms_cpu:10.2f} ms\")\n",
    "    print(f\"CPU Performance:      {giga_elements_per_sec_cpu:10.2f} GElements/s\")\n",
    "    \n",
    "    # GPU benchmark (if available)\n",
    "    if torch.cuda.is_available():\n",
    "        input_tensor_gpu = input_tensor.cuda()\n",
    "        mask_tensor_gpu = mask_tensor.cuda()\n",
    "        \n",
    "        # Warm-up\n",
    "        _ = torch.nn.functional.conv1d(input_tensor_gpu.view(1, 1, -1), \n",
    "                                     mask_tensor_gpu.view(1, 1, -1), \n",
    "                                     padding=MASK_WIDTH//2)\n",
    "        torch.cuda.synchronize()\n",
    "        \n",
    "        start_time = time.perf_counter()\n",
    "        output_gpu = torch.nn.functional.conv1d(input_tensor_gpu.view(1, 1, -1), \n",
    "                                              mask_tensor_gpu.view(1, 1, -1), \n",
    "                                              padding=MASK_WIDTH//2)\n",
    "        torch.cuda.synchronize()\n",
    "        end_time = time.perf_counter()\n",
    "        \n",
    "        elapsed_ms_gpu = (end_time - start_time) * 1000\n",
    "        giga_elements_per_sec_gpu = (WIDTH * 1e-6) / (elapsed_ms_gpu * 1e-3)\n",
    "        \n",
    "        print(f\"GPU Time:          {elapsed_ms_gpu:10.2f} ms\")\n",
    "        print(f\"GPU Performance:      {giga_elements_per_sec_gpu:10.2f} GElements/s\")\n",
    "\n",
    "benchmark_pytorch()"
   ]
  },
  {
   "cell_type": "code",
   "execution_count": 6,
   "metadata": {},
   "outputs": [
    {
     "name": "stdout",
     "output_type": "stream",
     "text": [
      "\n",
      "SciPy Convolution Benchmark:\n",
      "  Input size:    1048576\n",
      "  Mask width:          5\n",
      "\n",
      "Time:                2.81 ms\n",
      "Performance:          373.33 GElements/s\n"
     ]
    }
   ],
   "source": [
    "def benchmark_scipy():\n",
    "    print(\"\\nSciPy Convolution Benchmark:\")\n",
    "    print(f\"  Input size: {WIDTH:10d}\")\n",
    "    print(f\"  Mask width: {MASK_WIDTH:10d}\")\n",
    "    print()\n",
    "    \n",
    "    # Warm-up\n",
    "    _ = convolve(input_data, M, mode='same')\n",
    "    \n",
    "    start_time = time.perf_counter()\n",
    "    output = convolve(input_data, M, mode='same')\n",
    "    end_time = time.perf_counter()\n",
    "    \n",
    "    elapsed_ms = (end_time - start_time) * 1000\n",
    "    giga_elements_per_sec = (WIDTH * 1e-6) / (elapsed_ms * 1e-3)\n",
    "    \n",
    "    print(f\"Time:          {elapsed_ms:10.2f} ms\")\n",
    "    print(f\"Performance:      {giga_elements_per_sec:10.2f} GElements/s\")\n",
    "\n",
    "benchmark_scipy()"
   ]
  },
  {
   "cell_type": "code",
   "execution_count": 8,
   "metadata": {},
   "outputs": [
    {
     "name": "stdout",
     "output_type": "stream",
     "text": [
      "=== Performance Comparison ===\n",
      "\n",
      "CUDA Fortran Performance (from previous run):\n",
      "Performance:      11,130 GElements/s on RTX 4060\n",
      "Time:             0.09 ms\n",
      "\n",
      "Running Python implementations...\n",
      "NumPy Convolution Benchmark:\n",
      "  Input size:    1048576\n",
      "  Mask width:          5\n",
      "\n",
      "Time:                2.70 ms\n",
      "Performance:          388.11 GElements/s\n",
      "\n",
      "PyTorch Convolution Benchmark:\n",
      "  Input size:    1048576\n",
      "  Mask width:          5\n",
      "\n",
      "CPU Time:               22.38 ms\n",
      "CPU Performance:           46.85 GElements/s\n",
      "GPU Time:                0.17 ms\n",
      "GPU Performance:         6239.22 GElements/s\n",
      "\n",
      "SciPy Convolution Benchmark:\n",
      "  Input size:    1048576\n",
      "  Mask width:          5\n",
      "\n",
      "Time:                2.28 ms\n",
      "Performance:          460.16 GElements/s\n"
     ]
    }
   ],
   "source": [
    "def run_all_benchmarks():\n",
    "    print(\"=== Performance Comparison ===\")\n",
    "    print(\"\\nCUDA Fortran Performance (from previous run):\")\n",
    "    print(\"Performance:      11,130 GElements/s on RTX 4060\")\n",
    "    print(\"Time:             0.09 ms\")\n",
    "    print(\"\\nRunning Python implementations...\")\n",
    "    \n",
    "    benchmark_numpy()\n",
    "    benchmark_pytorch()\n",
    "    benchmark_scipy()\n",
    "\n",
    "run_all_benchmarks()"
   ]
  }
 ],
 "metadata": {
  "kernelspec": {
   "display_name": "py312",
   "language": "python",
   "name": "python3"
  },
  "language_info": {
   "codemirror_mode": {
    "name": "ipython",
    "version": 3
   },
   "file_extension": ".py",
   "mimetype": "text/x-python",
   "name": "python",
   "nbconvert_exporter": "python",
   "pygments_lexer": "ipython3",
   "version": "3.12.2"
  }
 },
 "nbformat": 4,
 "nbformat_minor": 2
}
